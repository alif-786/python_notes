{
 "cells": [
  {
   "cell_type": "markdown",
   "metadata": {},
   "source": [
    "# Decision Making ( if...else Statement)"
   ]
  },
  {
   "cell_type": "code",
   "execution_count": null,
   "metadata": {},
   "outputs": [],
   "source": [
    "any([1])\n",
    "\n",
    "# => it will give output as true/false.\n",
    "# => if any non-zero value will give you o/p as true.\n",
    "# => from multiple values, if any single value is non zero, then\n",
    "# the o/p will true. And if all the values are zero, then the o/p \n",
    "# is false."
   ]
  },
  {
   "cell_type": "code",
   "execution_count": null,
   "metadata": {},
   "outputs": [],
   "source": [
    "any([0])"
   ]
  },
  {
   "cell_type": "code",
   "execution_count": null,
   "metadata": {},
   "outputs": [],
   "source": [
    "any([0,0,0,1])"
   ]
  },
  {
   "cell_type": "code",
   "execution_count": null,
   "metadata": {},
   "outputs": [],
   "source": [
    "any([0,0,0,0])"
   ]
  },
  {
   "cell_type": "code",
   "execution_count": null,
   "metadata": {},
   "outputs": [],
   "source": [
    "all([1,2,3,'0',''])\n",
    "# => it will give output as true/false.\n",
    "# => Whatever values we provide inside all() should be non-zero,\n",
    "# then we will get the o/p as true, otherwise will get o/p as \n",
    "# false."
   ]
  },
  {
   "cell_type": "code",
   "execution_count": null,
   "metadata": {},
   "outputs": [],
   "source": [
    "all([1,2,3,'0','TechnoLight'])"
   ]
  },
  {
   "cell_type": "code",
   "execution_count": null,
   "metadata": {},
   "outputs": [],
   "source": [
    "all([0,1,2,3])     # it consider 0 as boolean valuesd"
   ]
  },
  {
   "cell_type": "code",
   "execution_count": 4,
   "metadata": {},
   "outputs": [
    {
     "name": "stdout",
     "output_type": "stream",
     "text": [
      "Good bye!\n"
     ]
    }
   ],
   "source": [
    "# Single Statement Suites\n",
    "var = 11001\n",
    "if (var == 1001): #1001==100\n",
    "    print(\"Automatically take indentation\")\n",
    "    print(\"Value of expression is 100\")\n",
    "print(\"Good bye!\")"
   ]
  },
  {
   "cell_type": "code",
   "execution_count": 5,
   "metadata": {},
   "outputs": [
    {
     "name": "stdout",
     "output_type": "stream",
     "text": [
      "40 is less than 12\n"
     ]
    }
   ],
   "source": [
    "x = 40\n",
    "if (x<12):\n",
    "    print(\"40 is greater than 12\")\n",
    "else:\n",
    "    print(\"40 is less than 12\")"
   ]
  },
  {
   "cell_type": "code",
   "execution_count": 7,
   "metadata": {},
   "outputs": [
    {
     "name": "stdout",
     "output_type": "stream",
     "text": [
      "Good bye!\n"
     ]
    }
   ],
   "source": [
    "# Single Statement Suites\n",
    "var = 100\n",
    "if (var == 1010): \n",
    "    print(\"Value of expression is 100\")\n",
    "print(\"Good bye!\")"
   ]
  },
  {
   "cell_type": "code",
   "execution_count": 12,
   "metadata": {},
   "outputs": [
    {
     "name": "stdout",
     "output_type": "stream",
     "text": [
      "Enter your age Ronald\n"
     ]
    },
    {
     "ename": "ValueError",
     "evalue": "could not convert string to float: 'Ronald'",
     "output_type": "error",
     "traceback": [
      "\u001b[1;31m---------------------------------------------------------------------------\u001b[0m",
      "\u001b[1;31mValueError\u001b[0m                                Traceback (most recent call last)",
      "\u001b[1;32m<ipython-input-12-21f1a874e4f7>\u001b[0m in \u001b[0;36m<module>\u001b[1;34m\u001b[0m\n\u001b[1;32m----> 1\u001b[1;33m \u001b[0mage\u001b[0m \u001b[1;33m=\u001b[0m \u001b[0mfloat\u001b[0m\u001b[1;33m(\u001b[0m\u001b[0minput\u001b[0m\u001b[1;33m(\u001b[0m\u001b[1;34m\"Enter your age \"\u001b[0m\u001b[1;33m)\u001b[0m\u001b[1;33m)\u001b[0m\u001b[1;33m\u001b[0m\u001b[1;33m\u001b[0m\u001b[0m\n\u001b[0m\u001b[0;32m      2\u001b[0m \u001b[1;32mif\u001b[0m \u001b[1;33m(\u001b[0m\u001b[0mage\u001b[0m\u001b[1;33m>=\u001b[0m\u001b[1;36m18\u001b[0m \u001b[1;32mand\u001b[0m \u001b[0mage\u001b[0m \u001b[1;33m<=\u001b[0m \u001b[1;36m100\u001b[0m\u001b[1;33m)\u001b[0m\u001b[1;33m:\u001b[0m\u001b[1;33m\u001b[0m\u001b[1;33m\u001b[0m\u001b[0m\n\u001b[0;32m      3\u001b[0m     \u001b[0mprint\u001b[0m\u001b[1;33m(\u001b[0m\u001b[1;34m\"You can Vote\"\u001b[0m\u001b[1;33m)\u001b[0m\u001b[1;33m\u001b[0m\u001b[1;33m\u001b[0m\u001b[0m\n\u001b[0;32m      4\u001b[0m \u001b[1;32melse\u001b[0m\u001b[1;33m:\u001b[0m\u001b[1;33m\u001b[0m\u001b[1;33m\u001b[0m\u001b[0m\n\u001b[0;32m      5\u001b[0m     \u001b[0mprint\u001b[0m\u001b[1;33m(\u001b[0m\u001b[1;34m\"You need to wait for voting\"\u001b[0m\u001b[1;33m)\u001b[0m\u001b[1;33m\u001b[0m\u001b[1;33m\u001b[0m\u001b[0m\n",
      "\u001b[1;31mValueError\u001b[0m: could not convert string to float: 'Ronald'"
     ]
    }
   ],
   "source": [
    "age = float(input(\"Enter your age \"))\n",
    "if (age>=18 and age <= 100):\n",
    "    print(\"You can Vote\")\n",
    "else:\n",
    "    print(\"You need to wait for voting\")\n",
    "print(type(age))"
   ]
  },
  {
   "cell_type": "code",
   "execution_count": 8,
   "metadata": {},
   "outputs": [
    {
     "name": "stdout",
     "output_type": "stream",
     "text": [
      "Enter your age 40\n",
      "40\n",
      "<class 'str'>\n"
     ]
    }
   ],
   "source": [
    "a = input(\"Enter your age \")\n",
    "print(a)\n",
    "print(type(a))"
   ]
  },
  {
   "cell_type": "code",
   "execution_count": null,
   "metadata": {},
   "outputs": [],
   "source": [
    "num = int(input(\"enter the number? \"))\n",
    "if num%2 == 0: # 37863447\n",
    "    print(\"Number is Even\")  \n",
    "else:\n",
    "    print(\"Number is Odd\")"
   ]
  },
  {
   "cell_type": "code",
   "execution_count": 17,
   "metadata": {},
   "outputs": [
    {
     "name": "stdout",
     "output_type": "stream",
     "text": [
      "Enter a? 4\n",
      "Enter b? 4\n",
      "Enter c? 5\n",
      "c is largest\n"
     ]
    }
   ],
   "source": [
    "# Program to print the largest of the three numbers.\n",
    "\n",
    "a = int(input(\"Enter a? \")); # 5 \n",
    "b = int(input(\"Enter b? \")); # 6 \n",
    "c = int(input(\"Enter c? \")); # 7 \n",
    "\n",
    "if a>b and a>c:  \n",
    "    print(\"a is largest\");  \n",
    "if b>a and b>c:  \n",
    "    print(\"b is largest\");  \n",
    "if c>a and c>b:  \n",
    "    print(\"c is largest\");"
   ]
  },
  {
   "cell_type": "code",
   "execution_count": 18,
   "metadata": {},
   "outputs": [
    {
     "name": "stdout",
     "output_type": "stream",
     "text": [
      "Enter a? 10\n",
      "Enter b? 18\n",
      "Enter c? 16\n",
      "a is lowest\n"
     ]
    }
   ],
   "source": [
    "# Program to print the largest of the three numbers.\n",
    "\n",
    "a = int(input(\"Enter a? \")); # 5 \n",
    "b = int(input(\"Enter b? \")); # 6 \n",
    "c = int(input(\"Enter c? \")); # 7 \n",
    "\n",
    "if a<b and a<c:  \n",
    "    print(\"a is lowest\");  \n",
    "if b<a and b<c:  \n",
    "    print(\"b is lowest\");  \n",
    "if c<a and c<b:  \n",
    "    print(\"c is lowest\");"
   ]
  },
  {
   "cell_type": "code",
   "execution_count": 20,
   "metadata": {},
   "outputs": [
    {
     "name": "stdout",
     "output_type": "stream",
     "text": [
      "1 - Got a true expression value\n",
      "-10\n",
      "False\n",
      "0\n",
      "Good bye!\n"
     ]
    }
   ],
   "source": [
    "# IF...ELSE Statements\n",
    "\n",
    "var1 = -10 # True\n",
    "if var1:\n",
    "    print (\"1 - Got a true expression value\")\n",
    "    print (var1)\n",
    "else:\n",
    "    print (\"1 - Got a false expression value\")\n",
    "    print (var1)\n",
    "# -------------------------------------------------------------------\n",
    "var2 = 0  # False\n",
    "if var2:\n",
    "    print (\"2 - Got a true expression value\")\n",
    "    print (var2)\n",
    "else:\n",
    "    print (\"False\")\n",
    "    print (var2)\n",
    "\n",
    "print(\"Good bye!\")"
   ]
  },
  {
   "cell_type": "code",
   "execution_count": 22,
   "metadata": {},
   "outputs": [
    {
     "name": "stdout",
     "output_type": "stream",
     "text": [
      "Expression value is less than 200\n",
      "Nothing\n",
      "Good bye!\n"
     ]
    }
   ],
   "source": [
    "# nested IF statements\n",
    "var = 157\n",
    "if var < 400:\n",
    "    print(\"Expression value is less than 200\")\n",
    "    if var <= 150:\n",
    "        print (\"Which is 150\")\n",
    "    elif var == 100:\n",
    "        print (\"Which is 100\")\n",
    "    elif var == 50:\n",
    "        print (\"Which is 50\")\n",
    "    elif var < 50:\n",
    "        print (\"Expression value is less than 50\")\n",
    "    else:\n",
    "        print(\"Nothing\")\n",
    "else:\n",
    "    print (\"Could not find true expression\")\n",
    "print(\"Good bye!\")"
   ]
  },
  {
   "cell_type": "code",
   "execution_count": 26,
   "metadata": {},
   "outputs": [
    {
     "name": "stdout",
     "output_type": "stream",
     "text": [
      "Enter the Percentage? 780\n",
      "Invalid\n"
     ]
    }
   ],
   "source": [
    "# WAP to print mark vise grades\n",
    "marks = float(input(\"Enter the Percentage? \"))  # 22\n",
    "if marks > 85 and marks <= 100:\n",
    "    print(\"Congrats ! you have scored grade A ...\")\n",
    "elif marks > 60 and marks <= 85:\n",
    "    print(\"You have scored grade B + ...\")\n",
    "elif marks > 40 and marks <= 60:\n",
    "    print(\"You have scored grade B ...\")\n",
    "elif (marks > 30 and marks <= 40):\n",
    "    print(\"You have scored grade C ...\")\n",
    "elif (marks>100):\n",
    "    print(\"Invalid\")\n",
    "else:\n",
    "    print(\"Sorry you are fail..\")"
   ]
  },
  {
   "cell_type": "markdown",
   "metadata": {},
   "source": [
    "# Ternary operator"
   ]
  },
  {
   "cell_type": "markdown",
   "metadata": {},
   "source": [
    "The ternary operator is a shorthand for an if-else statement. The syntax is value_if_true if condition else value_if_false. It's a one-liner that can replace a multi-line if-else statement, making your code more concise."
   ]
  },
  {
   "cell_type": "code",
   "execution_count": null,
   "metadata": {},
   "outputs": [],
   "source": [
    "a = 5\n",
    "b = 10\n",
    "if a > b: \n",
    "    print(a)\n",
    "else: \n",
    "    print(b)"
   ]
  },
  {
   "cell_type": "code",
   "execution_count": null,
   "metadata": {},
   "outputs": [],
   "source": [
    "# Syntax : value_if_true if condition else value_if_false\n",
    "a = 50 \n",
    "b = 10 \n",
    "max = a if a > b else b\n",
    "print(max)"
   ]
  },
  {
   "cell_type": "code",
   "execution_count": null,
   "metadata": {},
   "outputs": [],
   "source": [
    "a = \"Python\"\n",
    "b = a.lower()\n",
    "b\n",
    "\n",
    "# top - bottom\n",
    "# right - left"
   ]
  },
  {
   "cell_type": "code",
   "execution_count": null,
   "metadata": {},
   "outputs": [],
   "source": [
    "# Python program to demonstrate nested ternary operator\n",
    "a, b = 10, 20\n",
    "\n",
    "print (\"Both a and b are equal\" if a == b else \n",
    "       \"a is greater than b\" if a > b else \"b is greater than a\")"
   ]
  },
  {
   "cell_type": "code",
   "execution_count": null,
   "metadata": {},
   "outputs": [],
   "source": [
    "a, b = 10, 20\n",
    "if a == b:\n",
    "    print (\"Both a and b are equal\")\n",
    "else:\n",
    "    if a > b:\n",
    "        print(\"a is greater than b\")\n",
    "    else:\n",
    "        print(\"b is greater than a\")"
   ]
  },
  {
   "cell_type": "code",
   "execution_count": null,
   "metadata": {},
   "outputs": [],
   "source": [
    "# Python program to demonstrate nested ternary operator\n",
    "a, b = 10, 20\n",
    "\n",
    "if a != b:\n",
    "    if a > b:\n",
    "        print(\"a is greater than b\")\n",
    "    else:\n",
    "        print(\"b is greater than a\")\n",
    "else:\n",
    "    print(\"Both a and b are equal\")"
   ]
  },
  {
   "cell_type": "code",
   "execution_count": null,
   "metadata": {},
   "outputs": [],
   "source": [
    "a=5\n",
    "b=7\n",
    "\n",
    "# [statement_on_True] if [condition] else [statement_on_false]\n",
    "\n",
    "print(a,\"is greater\") if (a>b) else print(b,\"is Greater\")"
   ]
  },
  {
   "cell_type": "code",
   "execution_count": null,
   "metadata": {},
   "outputs": [],
   "source": [
    "a, b = 2, 20\n",
    "min = a < b and a or b\n",
    "print(min)"
   ]
  },
  {
   "cell_type": "code",
   "execution_count": null,
   "metadata": {},
   "outputs": [],
   "source": [
    "a, b = 2, 20\n",
    "min = a > b and a or b\n",
    "print(min)"
   ]
  },
  {
   "cell_type": "code",
   "execution_count": null,
   "metadata": {},
   "outputs": [],
   "source": []
  }
 ],
 "metadata": {
  "kernelspec": {
   "display_name": "Python 3",
   "language": "python",
   "name": "python3"
  },
  "language_info": {
   "codemirror_mode": {
    "name": "ipython",
    "version": 3
   },
   "file_extension": ".py",
   "mimetype": "text/x-python",
   "name": "python",
   "nbconvert_exporter": "python",
   "pygments_lexer": "ipython3",
   "version": "3.8.3"
  }
 },
 "nbformat": 4,
 "nbformat_minor": 4
}

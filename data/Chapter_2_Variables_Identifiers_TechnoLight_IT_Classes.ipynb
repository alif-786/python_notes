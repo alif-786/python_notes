{
 "cells": [
  {
   "cell_type": "markdown",
   "metadata": {},
   "source": [
    "# Variables"
   ]
  },
  {
   "cell_type": "code",
   "execution_count": 1,
   "metadata": {},
   "outputs": [
    {
     "name": "stdout",
     "output_type": "stream",
     "text": [
      "5\n"
     ]
    }
   ],
   "source": [
    "a = 5 \n",
    "# a = variable \n",
    "# 5 = value \n",
    "print(a) "
   ]
  },
  {
   "cell_type": "code",
   "execution_count": 2,
   "metadata": {},
   "outputs": [
    {
     "name": "stdout",
     "output_type": "stream",
     "text": [
      "<class 'float'>\n"
     ]
    }
   ],
   "source": [
    "a = 55.3\n",
    "#type(a)\n",
    "print(type(a))\n",
    "# it is used to print the datatype name of the respected variable."
   ]
  },
  {
   "cell_type": "code",
   "execution_count": 3,
   "metadata": {},
   "outputs": [
    {
     "name": "stdout",
     "output_type": "stream",
     "text": [
      "6\n"
     ]
    }
   ],
   "source": [
    "_a = 6\n",
    "print(_a)   # variable starts with _ is valid"
   ]
  },
  {
   "cell_type": "code",
   "execution_count": 4,
   "metadata": {},
   "outputs": [
    {
     "ename": "SyntaxError",
     "evalue": "invalid syntax (<ipython-input-4-79158a133918>, line 1)",
     "output_type": "error",
     "traceback": [
      "\u001b[1;36m  File \u001b[1;32m\"<ipython-input-4-79158a133918>\"\u001b[1;36m, line \u001b[1;32m1\u001b[0m\n\u001b[1;33m    1a = 7\u001b[0m\n\u001b[1;37m     ^\u001b[0m\n\u001b[1;31mSyntaxError\u001b[0m\u001b[1;31m:\u001b[0m invalid syntax\n"
     ]
    }
   ],
   "source": [
    "1a = 7\n",
    "print(1a)  # variable is starts with numeric value"
   ]
  },
  {
   "cell_type": "code",
   "execution_count": 6,
   "metadata": {},
   "outputs": [
    {
     "name": "stdout",
     "output_type": "stream",
     "text": [
      "10\n",
      "11\n",
      "12\n",
      "13\n",
      "abcd\n"
     ]
    }
   ],
   "source": [
    "HTML=10\n",
    "print(HTML)\n",
    "html = 11\n",
    "print(html)\n",
    "Html = 12\n",
    "HtMl = 13\n",
    "HTML = 'abcd'\n",
    "print(Html)\n",
    "print(HtMl)\n",
    "print(HTML)\n",
    "# It is case sensitive"
   ]
  },
  {
   "cell_type": "code",
   "execution_count": 7,
   "metadata": {},
   "outputs": [
    {
     "ename": "SyntaxError",
     "evalue": "invalid syntax (<ipython-input-7-c1f5fb390a78>, line 1)",
     "output_type": "error",
     "traceback": [
      "\u001b[1;36m  File \u001b[1;32m\"<ipython-input-7-c1f5fb390a78>\"\u001b[1;36m, line \u001b[1;32m1\u001b[0m\n\u001b[1;33m    if = 5\u001b[0m\n\u001b[1;37m       ^\u001b[0m\n\u001b[1;31mSyntaxError\u001b[0m\u001b[1;31m:\u001b[0m invalid syntax\n"
     ]
    }
   ],
   "source": [
    "if = 5\n",
    "print(if)"
   ]
  },
  {
   "cell_type": "code",
   "execution_count": 11,
   "metadata": {},
   "outputs": [
    {
     "name": "stdout",
     "output_type": "stream",
     "text": [
      "10\n",
      "11\n",
      "10\n"
     ]
    }
   ],
   "source": [
    "HTML=10\n",
    "print(HTML)\n",
    "html = 11\n",
    "print(html)\n",
    "print(HTML)"
   ]
  },
  {
   "cell_type": "code",
   "execution_count": 14,
   "metadata": {},
   "outputs": [
    {
     "name": "stdout",
     "output_type": "stream",
     "text": [
      "Priyanka\n",
      "Priyanka\n"
     ]
    }
   ],
   "source": [
    "print(html)\n",
    "html = \"Priyanka\"\n",
    "print(html)\n",
    "# we have already define html variable & assigned a value it to 11\n",
    "# but we are re-assigning a new value to same variable, \n",
    "# it will update automatically."
   ]
  },
  {
   "cell_type": "code",
   "execution_count": 17,
   "metadata": {},
   "outputs": [
    {
     "ename": "SyntaxError",
     "evalue": "cannot assign to operator (<ipython-input-17-ff7d53261ea7>, line 1)",
     "output_type": "error",
     "traceback": [
      "\u001b[1;36m  File \u001b[1;32m\"<ipython-input-17-ff7d53261ea7>\"\u001b[1;36m, line \u001b[1;32m1\u001b[0m\n\u001b[1;33m    h+t = 3\u001b[0m\n\u001b[1;37m    ^\u001b[0m\n\u001b[1;31mSyntaxError\u001b[0m\u001b[1;31m:\u001b[0m cannot assign to operator\n"
     ]
    }
   ],
   "source": [
    "h+t = 3\n",
    "print(h+t)  \n",
    "# + (special symbol) is not valid in variable declaration"
   ]
  },
  {
   "cell_type": "code",
   "execution_count": 18,
   "metadata": {},
   "outputs": [
    {
     "name": "stdout",
     "output_type": "stream",
     "text": [
      "2\n"
     ]
    }
   ],
   "source": [
    "h_t = 2\n",
    "print(h_t)   # _ is valid in variable declaration"
   ]
  },
  {
   "cell_type": "code",
   "execution_count": 19,
   "metadata": {},
   "outputs": [
    {
     "ename": "SyntaxError",
     "evalue": "invalid syntax (<ipython-input-19-0146e7eea934>, line 1)",
     "output_type": "error",
     "traceback": [
      "\u001b[1;36m  File \u001b[1;32m\"<ipython-input-19-0146e7eea934>\"\u001b[1;36m, line \u001b[1;32m1\u001b[0m\n\u001b[1;33m    def = 5   # def is keyword in python, & keyword is not valid\u001b[0m\n\u001b[1;37m        ^\u001b[0m\n\u001b[1;31mSyntaxError\u001b[0m\u001b[1;31m:\u001b[0m invalid syntax\n"
     ]
    }
   ],
   "source": [
    "def = 5   # def is keyword in python, & keyword is not valid\n",
    "print(def)\n",
    "\n",
    "# Keywords = (Green + Bold + no bracket) \n",
    "# Ex: if, else, in, not in, break, continue, pass, etc.\n",
    "# Functions = (green + not bold + brackets)\n",
    "# Ex: type(), strip(), upper(), lower(), print(), etc."
   ]
  },
  {
   "cell_type": "code",
   "execution_count": 20,
   "metadata": {},
   "outputs": [
    {
     "ename": "SyntaxError",
     "evalue": "invalid syntax (<ipython-input-20-37a8dddb2ea8>, line 1)",
     "output_type": "error",
     "traceback": [
      "\u001b[1;36m  File \u001b[1;32m\"<ipython-input-20-37a8dddb2ea8>\"\u001b[1;36m, line \u001b[1;32m1\u001b[0m\n\u001b[1;33m    n 9 = 5\u001b[0m\n\u001b[1;37m      ^\u001b[0m\n\u001b[1;31mSyntaxError\u001b[0m\u001b[1;31m:\u001b[0m invalid syntax\n"
     ]
    }
   ],
   "source": [
    "n 9 = 5\n",
    "print(n 9)   # space is not allowed in variable declaration"
   ]
  },
  {
   "cell_type": "code",
   "execution_count": 25,
   "metadata": {},
   "outputs": [
    {
     "name": "stdout",
     "output_type": "stream",
     "text": [
      "Ranbir Kapoor\n"
     ]
    }
   ],
   "source": [
    "print(\"Ranbir Kapoor\")\n",
    "#len(\"Ranbir Kapoor\")\n",
    "# space is allowed in values, not in variables."
   ]
  },
  {
   "cell_type": "code",
   "execution_count": 28,
   "metadata": {},
   "outputs": [
    {
     "name": "stdout",
     "output_type": "stream",
     "text": [
      "<class 'float'>\n",
      "<class 'str'>\n",
      "<class 'int'>\n"
     ]
    }
   ],
   "source": [
    "print(type(4653.4))\n",
    "print(type('python'))\n",
    "print(type(-6542434676986545789654667865787543245671))\n",
    "# to print variable type of value"
   ]
  },
  {
   "cell_type": "code",
   "execution_count": 29,
   "metadata": {},
   "outputs": [
    {
     "data": {
      "text/plain": [
       "2"
      ]
     },
     "execution_count": 29,
     "metadata": {},
     "output_type": "execute_result"
    }
   ],
   "source": [
    "a = 2\n",
    "a"
   ]
  },
  {
   "cell_type": "code",
   "execution_count": 31,
   "metadata": {},
   "outputs": [
    {
     "name": "stdout",
     "output_type": "stream",
     "text": [
      "140732362536768\n"
     ]
    }
   ],
   "source": [
    "# id()\n",
    "# =====\n",
    "a = 2\n",
    "print(id(a))\n",
    "# => it will give you the O/P of memory location where \n",
    "# the variable has been stored.\n",
    "# => Basically memory locations are in hexa decimal \n",
    "# format, but id() convert it into decimal format & display."
   ]
  },
  {
   "cell_type": "code",
   "execution_count": 32,
   "metadata": {},
   "outputs": [
    {
     "name": "stdout",
     "output_type": "stream",
     "text": [
      "140732362536768\n"
     ]
    }
   ],
   "source": [
    "z = 2\n",
    "print(id(a))\n",
    "# => id's are dependent upon the values, value change => ID change"
   ]
  },
  {
   "cell_type": "code",
   "execution_count": 35,
   "metadata": {},
   "outputs": [
    {
     "name": "stdout",
     "output_type": "stream",
     "text": [
      "3255 3255\n"
     ]
    }
   ],
   "source": [
    "a = 3255\n",
    "b = a   # assign variable value to another variable\n",
    "#print(a,b) # We are printing multiple variables in same print statement.\n",
    "print(a,b)"
   ]
  },
  {
   "cell_type": "code",
   "execution_count": 36,
   "metadata": {},
   "outputs": [
    {
     "name": "stdout",
     "output_type": "stream",
     "text": [
      "1493602807376\n",
      "1493602807376\n"
     ]
    }
   ],
   "source": [
    "print(id(a)) # to get id of memory location where variable is initilized\n",
    "print(id(b))"
   ]
  },
  {
   "cell_type": "code",
   "execution_count": 38,
   "metadata": {},
   "outputs": [
    {
     "name": "stdout",
     "output_type": "stream",
     "text": [
      "10\n",
      "140732362537024\n",
      "Python\n",
      "1493535579312\n",
      "140732362537024\n"
     ]
    }
   ],
   "source": [
    "a = 10\n",
    "print(a)\n",
    "print(id(a))\n",
    "a = 'Python'\n",
    "print(a)\n",
    "print(id(a))\n",
    "b = 10\n",
    "print(id(b))\n",
    "# Rule : whenever we update a new value to existing variable, it \n",
    "# will get the new id."
   ]
  },
  {
   "cell_type": "code",
   "execution_count": 40,
   "metadata": {},
   "outputs": [
    {
     "name": "stdout",
     "output_type": "stream",
     "text": [
      "[5, 10, 15]\n",
      "1493603752576\n",
      "[5, 10, 15]\n",
      "1493602648768\n"
     ]
    }
   ],
   "source": [
    "a = [5,10,15]\n",
    "print(a)\n",
    "print(id(a))\n",
    "b = a.copy()\n",
    "print(b)\n",
    "print(id(b))\n",
    "# => copy() -> it is used to copy the data from 1 variable to another\n",
    "# => it will assign new memory location to the same values which \n",
    "# are present in different variable.\n",
    "# => copy() will not work on normal int / string values."
   ]
  },
  {
   "cell_type": "code",
   "execution_count": 41,
   "metadata": {},
   "outputs": [
    {
     "name": "stdout",
     "output_type": "stream",
     "text": [
      "[3254, 123]\n",
      "1493603753408\n",
      "1493602998080\n"
     ]
    }
   ],
   "source": [
    "a = [3254,123]\n",
    "b = a.copy()\n",
    "print(b)\n",
    "print(id(a))\n",
    "print(id(b))\n",
    "# => copy() only works on list data."
   ]
  },
  {
   "cell_type": "code",
   "execution_count": 43,
   "metadata": {},
   "outputs": [
    {
     "name": "stdout",
     "output_type": "stream",
     "text": [
      "78\n"
     ]
    }
   ],
   "source": [
    "aaaaaaaaaaaaaaaaaaaaaaaaaaaaaaaaaaaaaaaaaaaaaaaaaaaaaaaaa = 78\n",
    "# variable length can be anything\n",
    "print(aaaaaaaaaaaaaaaaaaaaaaaaaaaaaaaaaaaaaaaaaaaaaaaaaaaaaaaaa)"
   ]
  },
  {
   "cell_type": "code",
   "execution_count": 47,
   "metadata": {},
   "outputs": [
    {
     "ename": "NameError",
     "evalue": "name 'aaaaaaaaaaaaaaaaaaaaaaaaaaaaaaaaaaaaaaaaaaaaaaaaaaaaaaaaa' is not defined",
     "output_type": "error",
     "traceback": [
      "\u001b[1;31m---------------------------------------------------------------------------\u001b[0m",
      "\u001b[1;31mNameError\u001b[0m                                 Traceback (most recent call last)",
      "\u001b[1;32m<ipython-input-47-49376f74d7bd>\u001b[0m in \u001b[0;36m<module>\u001b[1;34m\u001b[0m\n\u001b[1;32m----> 1\u001b[1;33m \u001b[1;32mdel\u001b[0m \u001b[0maaaaaaaaaaaaaaaaaaaaaaaaaaaaaaaaaaaaaaaaaaaaaaaaaaaaaaaaa\u001b[0m\u001b[1;33m\u001b[0m\u001b[1;33m\u001b[0m\u001b[0m\n\u001b[0m\u001b[0;32m      2\u001b[0m \u001b[1;31m# => it is a keyword, used to delete a variable.\u001b[0m\u001b[1;33m\u001b[0m\u001b[1;33m\u001b[0m\u001b[1;33m\u001b[0m\u001b[0m\n\u001b[0;32m      3\u001b[0m \u001b[1;31m# => it will free up the memory which has been used by\u001b[0m\u001b[1;33m\u001b[0m\u001b[1;33m\u001b[0m\u001b[1;33m\u001b[0m\u001b[0m\n\u001b[0;32m      4\u001b[0m \u001b[1;31m# deleted variable.\u001b[0m\u001b[1;33m\u001b[0m\u001b[1;33m\u001b[0m\u001b[1;33m\u001b[0m\u001b[0m\n\u001b[0;32m      5\u001b[0m \u001b[1;31m# => if variable have deleted successfully, still del keyword\u001b[0m\u001b[1;33m\u001b[0m\u001b[1;33m\u001b[0m\u001b[1;33m\u001b[0m\u001b[0m\n",
      "\u001b[1;31mNameError\u001b[0m: name 'aaaaaaaaaaaaaaaaaaaaaaaaaaaaaaaaaaaaaaaaaaaaaaaaaaaaaaaaa' is not defined"
     ]
    }
   ],
   "source": [
    "del aaaaaaaaaaaaaaaaaaaaaaaaaaaaaaaaaaaaaaaaaaaaaaaaaaaaaaaaa\n",
    "# => it is a keyword, used to delete a variable.\n",
    "# => it will free up the memory which has been used by \n",
    "# deleted variable.\n",
    "# => if variable have deleted successfully, still del keyword\n",
    "# will not notify you.\n",
    "# => So, to cross check whether that variable have deleted or not,\n",
    "# that time you just need to print same variable again. \n",
    "# If you are getting name error, then assume that variable have\n",
    "# been deleted successfully."
   ]
  },
  {
   "cell_type": "code",
   "execution_count": 48,
   "metadata": {},
   "outputs": [
    {
     "ename": "NameError",
     "evalue": "name 'aaaaaaaaaaaaaaaaaaaaaaaaaaaaaaaaaaaaaaaaaaaaaaaaaaaaaaaaa' is not defined",
     "output_type": "error",
     "traceback": [
      "\u001b[1;31m---------------------------------------------------------------------------\u001b[0m",
      "\u001b[1;31mNameError\u001b[0m                                 Traceback (most recent call last)",
      "\u001b[1;32m<ipython-input-48-4a067bef166a>\u001b[0m in \u001b[0;36m<module>\u001b[1;34m\u001b[0m\n\u001b[1;32m----> 1\u001b[1;33m \u001b[0mprint\u001b[0m\u001b[1;33m(\u001b[0m\u001b[0maaaaaaaaaaaaaaaaaaaaaaaaaaaaaaaaaaaaaaaaaaaaaaaaaaaaaaaaa\u001b[0m\u001b[1;33m)\u001b[0m\u001b[1;33m\u001b[0m\u001b[1;33m\u001b[0m\u001b[0m\n\u001b[0m",
      "\u001b[1;31mNameError\u001b[0m: name 'aaaaaaaaaaaaaaaaaaaaaaaaaaaaaaaaaaaaaaaaaaaaaaaaaaaaaaaaa' is not defined"
     ]
    }
   ],
   "source": [
    "print(aaaaaaaaaaaaaaaaaaaaaaaaaaaaaaaaaaaaaaaaaaaaaaaaaaaaaaaaa)"
   ]
  },
  {
   "cell_type": "code",
   "execution_count": 49,
   "metadata": {},
   "outputs": [
    {
     "name": "stdout",
     "output_type": "stream",
     "text": [
      "28\n",
      "28\n"
     ]
    }
   ],
   "source": [
    "# Variable declaration types\n",
    "ageRam = 28   # Camel Case\n",
    "AgeRam = 28   # Pascel Case\n",
    "age_ram = 28  # Snake Case\n",
    "print(age_ram)\n",
    "print(AgeRam)\n",
    "# ageRam & AgeRam both will be treated as different variable."
   ]
  },
  {
   "cell_type": "code",
   "execution_count": 50,
   "metadata": {},
   "outputs": [
    {
     "name": "stdout",
     "output_type": "stream",
     "text": [
      "50 50 50\n",
      "50\n",
      "50\n",
      "140732362538304 140732362538304 140732362538304\n"
     ]
    }
   ],
   "source": [
    "p=q=r = 50    # multiple variable assigning same value\n",
    "print(p,q,r)\n",
    "print(q)\n",
    "print(r)\n",
    "print(id(p), id(q), id(r))\n",
    "# if we assign multiple variable to same value in above fashion,\n",
    "# its id's are also same, means it is pointing to same memory location."
   ]
  },
  {
   "cell_type": "code",
   "execution_count": 51,
   "metadata": {},
   "outputs": [
    {
     "name": "stdout",
     "output_type": "stream",
     "text": [
      "1 2 3 4 5\n",
      "140732362536736 140732362536768 140732362536800 140732362536832 140732362536864\n"
     ]
    }
   ],
   "source": [
    "x,y,z,a,b = 1,2,3,4,5\n",
    "print(x,y,z,a,b)\n",
    "\n",
    "print(id(x), id(y), id(z), id(a), id(b))\n",
    "\n",
    "# if we assign multiple variable to multiple value in above fashion, \n",
    "# its id's are not same, means it is pointing to different memory location."
   ]
  },
  {
   "cell_type": "code",
   "execution_count": 52,
   "metadata": {},
   "outputs": [
    {
     "name": "stdout",
     "output_type": "stream",
     "text": [
      "10\n",
      "5\n"
     ]
    }
   ],
   "source": [
    "# Q. Swip the values using 3rd variable\n",
    "# Value Swip Program = 1\n",
    "x = 5\n",
    "y = 10\n",
    "\n",
    "# create a temporary variable and swap the values\n",
    "temp = x # 5\n",
    "x = y # 10\n",
    "y = temp  # 5\n",
    "\n",
    "print(x)\n",
    "print(y)"
   ]
  },
  {
   "cell_type": "code",
   "execution_count": 54,
   "metadata": {},
   "outputs": [
    {
     "name": "stdout",
     "output_type": "stream",
     "text": [
      "50 40\n"
     ]
    }
   ],
   "source": [
    "# 2 data swapping without using 3rd variable\n",
    "a,b = 40,50\n",
    "a,b=b,a\n",
    "# a,b = 50,40\n",
    "print(a,b)"
   ]
  },
  {
   "cell_type": "code",
   "execution_count": 68,
   "metadata": {},
   "outputs": [
    {
     "name": "stdout",
     "output_type": "stream",
     "text": [
      "100\n",
      "50\n"
     ]
    }
   ],
   "source": [
    "# Value Swapping - 3\n",
    "x = 50\n",
    "y = 100\n",
    "x = x + y # 50+100 = 150\n",
    "y = x - y # 150-100 = 50\n",
    "x = x - y # 150-50 = 100\n",
    "print(x)\n",
    "print(y)"
   ]
  },
  {
   "cell_type": "code",
   "execution_count": 58,
   "metadata": {},
   "outputs": [
    {
     "name": "stdout",
     "output_type": "stream",
     "text": [
      "5.0\n",
      "2.0\n"
     ]
    }
   ],
   "source": [
    "# 4\n",
    "x = 2\n",
    "y = 5\n",
    "x = x * y # 2*5 = 10 \n",
    "y = x / y # 10/5 = 2 \n",
    "x = x / y # 10/2 = 5 \n",
    "print(x)\n",
    "print(y)\n",
    "# => if you are dividing any value (int/float), \n",
    "# then it will generate output in the float format only."
   ]
  },
  {
   "cell_type": "code",
   "execution_count": 60,
   "metadata": {},
   "outputs": [
    {
     "name": "stdout",
     "output_type": "stream",
     "text": [
      "49484792189845964017385707922827168788423394221821026493711505801198359517950408893624961475564160884891466017755307007544733973414814823218704485167757732515190070310705950412147710599114396804230701281755190477608304460503692802600786008798557332498405321968614278185637758930978238755360836277499418542494341066984396971737595374544459205378178706633120524964218617443970445242934907503872445843007461728672021687321983938754586387186133764365041064395741579475055815007219238642909080797563132867529105168011809927634582978198439009758770285081640366041368948447882\n",
      "Type of E =  <class 'int'>\n"
     ]
    }
   ],
   "source": [
    "c = 2222222222248376675656435356586754356659735690379783485687658734658736565746546416385468541164874333333332222222222222222222222222222222222222222222222222222222222222222222222222222222222222222222222222222222222222222222222222222222222222222222222222222222222222222222222222226745164822222\n",
    "e = c*22268156485168598649987867564786865786756567646698473593569348755648964961506341866846418674168153315456416846466422222222222222222283456684699578405786845164853684648416843518073548645135768456784828646846456684697842533584641645354687542786843154864351648646651644584533874684531\n",
    "print(e)\n",
    "print(\"Type of E = \",type(e))\n",
    "# python has no number limit"
   ]
  },
  {
   "cell_type": "code",
   "execution_count": 63,
   "metadata": {},
   "outputs": [
    {
     "name": "stdout",
     "output_type": "stream",
     "text": [
      "7.367493347595202e+22\n"
     ]
    }
   ],
   "source": [
    "x = 4156417895984516410641785684536861248756165\n",
    "z = 56415631475815287456\n",
    "z_x = x/z\n",
    "print(z_x)\n",
    "# => everytime you will get O/P in float format \n",
    "# whenever you do division operation."
   ]
  },
  {
   "cell_type": "code",
   "execution_count": 64,
   "metadata": {},
   "outputs": [
    {
     "data": {
      "text/plain": [
       "2.0"
      ]
     },
     "execution_count": 64,
     "metadata": {},
     "output_type": "execute_result"
    }
   ],
   "source": [
    "4/2"
   ]
  },
  {
   "cell_type": "code",
   "execution_count": 67,
   "metadata": {},
   "outputs": [
    {
     "name": "stdout",
     "output_type": "stream",
     "text": [
      "4 4 5\n",
      "140732362536832 140732362536832 140732362536864\n"
     ]
    }
   ],
   "source": [
    "a=b=4\n",
    "c = 5\n",
    "print(a,b,c)\n",
    "print(id(a),id(b),id(c))"
   ]
  },
  {
   "cell_type": "code",
   "execution_count": null,
   "metadata": {},
   "outputs": [],
   "source": []
  }
 ],
 "metadata": {
  "kernelspec": {
   "display_name": "Python 3",
   "language": "python",
   "name": "python3"
  },
  "language_info": {
   "codemirror_mode": {
    "name": "ipython",
    "version": 3
   },
   "file_extension": ".py",
   "mimetype": "text/x-python",
   "name": "python",
   "nbconvert_exporter": "python",
   "pygments_lexer": "ipython3",
   "version": "3.8.3"
  }
 },
 "nbformat": 4,
 "nbformat_minor": 4
}

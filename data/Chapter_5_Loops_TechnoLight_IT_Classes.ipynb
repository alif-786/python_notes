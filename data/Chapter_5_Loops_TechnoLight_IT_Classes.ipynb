{
 "cells": [
  {
   "cell_type": "markdown",
   "metadata": {},
   "source": [
    "# Loops"
   ]
  },
  {
   "cell_type": "code",
   "execution_count": null,
   "metadata": {},
   "outputs": [],
   "source": [
    "i = 0\n",
    "while i<=10:\n",
    "    print(i)\n",
    "    i = i+2\n",
    "print(\"End\")"
   ]
  },
  {
   "cell_type": "code",
   "execution_count": null,
   "metadata": {},
   "outputs": [],
   "source": [
    "# While loop\n",
    "count = 5\n",
    "while(count <= 50):\n",
    "    print('The count is:', count)\n",
    "    count += 5  # count = count+5\n",
    "print(\"Good bye!\")\n",
    "print(count)"
   ]
  },
  {
   "cell_type": "code",
   "execution_count": null,
   "metadata": {},
   "outputs": [],
   "source": [
    "# The Infinite Loop\n",
    "x = 2\n",
    "while x == 2 :  # This constructs an infinite loop\n",
    "    num = int(input(\"Enter a number : \"))\n",
    "    print(\"You entered: \", num)\n",
    "print(\"Good bye!\")\n",
    "# => it means the loop will never get closed, because our \n",
    "# condition will always executed / never get false.\n",
    "# => infinte loop happens only because we have not given \n",
    "# increment or decrement operator in while loop condition."
   ]
  },
  {
   "cell_type": "code",
   "execution_count": null,
   "metadata": {},
   "outputs": [],
   "source": [
    "# Using else Statement with While Loop\n",
    "# => else statement will execute in all the cases by-default.\n",
    "count = 0\n",
    "while count < 3:\n",
    "    print(count, \"is less than 3\")\n",
    "    count = count + 1\n",
    "else:\n",
    "    print(count, \"is not less than 3\")"
   ]
  },
  {
   "cell_type": "code",
   "execution_count": null,
   "metadata": {},
   "outputs": [],
   "source": [
    "# Single Statement Suite\n",
    "flag = 0\n",
    "while (flag<1):     \n",
    "    print('Given flag is really true!')\n",
    "print(\"Good bye!\")"
   ]
  },
  {
   "cell_type": "markdown",
   "metadata": {},
   "source": [
    "# for Loop"
   ]
  },
  {
   "cell_type": "code",
   "execution_count": 1,
   "metadata": {},
   "outputs": [
    {
     "name": "stdout",
     "output_type": "stream",
     "text": [
      "P-*-y-*-t-*-h-*-o-*-n-*-"
     ]
    }
   ],
   "source": [
    "for x in 'Python':\n",
    "    print(x, end=\"-*-\")"
   ]
  },
  {
   "cell_type": "code",
   "execution_count": 6,
   "metadata": {},
   "outputs": [
    {
     "name": "stdout",
     "output_type": "stream",
     "text": [
      "1\n",
      "\n",
      "1 2 3\n",
      "4\n"
     ]
    }
   ],
   "source": [
    "print(1)\n",
    "print()\n",
    "print(1, end=' ')\n",
    "print(2, end=' ')\n",
    "print(3)\n",
    "print(4)\n",
    "# by default, the work of print() is to move to next line, \n",
    "# and if we give any parameter / value inside the print(), \n",
    "# it will print in the output."
   ]
  },
  {
   "cell_type": "code",
   "execution_count": 8,
   "metadata": {},
   "outputs": [
    {
     "name": "stdout",
     "output_type": "stream",
     "text": [
      "H\n",
      "H\n",
      "H\n",
      "H\n",
      "H\n"
     ]
    }
   ],
   "source": [
    "b=5\n",
    "while(b<=9):\n",
    "    print(\"H\")\n",
    "    b+=1 # b = b+1"
   ]
  },
  {
   "cell_type": "code",
   "execution_count": 10,
   "metadata": {},
   "outputs": [
    {
     "name": "stdout",
     "output_type": "stream",
     "text": [
      "<class 'list'>\n",
      "3\n",
      "apple\n",
      "banana\n",
      "cherry\n"
     ]
    }
   ],
   "source": [
    "fruits = [\"apple\", \"banana\", \"cherry\"]\n",
    "print(type(fruits))\n",
    "print(len(fruits))\n",
    "for x in fruits:\n",
    "    print(x)"
   ]
  },
  {
   "cell_type": "code",
   "execution_count": null,
   "metadata": {},
   "outputs": [],
   "source": [
    "a = ['python','java', 1, 1, 1.5] # List\n",
    "b = ('python','java') # Tuple\n",
    "c = {'python','c','c'} # set\n",
    "d = {'RollNo':[1,2,3,4,5]} # Dictioinary\n",
    "print(a)\n",
    "print(b)\n",
    "print(c)\n",
    "print(d)"
   ]
  },
  {
   "cell_type": "code",
   "execution_count": null,
   "metadata": {},
   "outputs": [],
   "source": [
    "for i in range(1,52,10):\n",
    "    print(i)"
   ]
  },
  {
   "cell_type": "code",
   "execution_count": null,
   "metadata": {},
   "outputs": [],
   "source": [
    "[i for i in range(1,52,10)]    "
   ]
  },
  {
   "cell_type": "code",
   "execution_count": null,
   "metadata": {},
   "outputs": [],
   "source": [
    "#for i in range(5,51,5): print(i)\n",
    "# OR\n",
    "#for i in range(5,51,5): \n",
    "#    print(i)\n",
    "# OR\n",
    "[i for i in range(5,51,5)]"
   ]
  },
  {
   "cell_type": "code",
   "execution_count": null,
   "metadata": {},
   "outputs": [],
   "source": [
    "# Iterating by Sequence Index\n",
    "fruits = ['banana', 'apple', 'lemon', 'apple']\n",
    "for i in range(5):  #0:2\n",
    "    print(i, fruits[i])  #fruits[1]"
   ]
  },
  {
   "cell_type": "code",
   "execution_count": null,
   "metadata": {},
   "outputs": [],
   "source": [
    "# Iterating values by Sequence Index using dynamic range\n",
    "fruits = ['banana', 'apple', 'mango', 'mango']\n",
    "for i in range(len(fruits)):  #0:3\n",
    "    print(fruits[i])  #fruits[0]"
   ]
  },
  {
   "cell_type": "code",
   "execution_count": null,
   "metadata": {},
   "outputs": [],
   "source": [
    "p = ('Python is  simple but lengthy.')\n",
    "print(len(p))\n",
    "print(type(p))"
   ]
  },
  {
   "cell_type": "code",
   "execution_count": null,
   "metadata": {},
   "outputs": [],
   "source": [
    "fruits = ['banana', 'apple', 'mango', 45, '786352', '58421']\n",
    "print(len(fruits))\n",
    "print(type(fruits))\n",
    "print(fruits[3])\n",
    "a = fruits[2]\n",
    "print(len(a))"
   ]
  },
  {
   "cell_type": "code",
   "execution_count": null,
   "metadata": {},
   "outputs": [],
   "source": [
    "# break : It is used to stop the current execution when certain \n",
    "# condition will get true.\n",
    "j = 'Python'\n",
    "for i in j:     # First Example\n",
    "    print('Current Letter :', i)\n",
    "    if i == 'h':\n",
    "        print(\"End\")\n",
    "        break        "
   ]
  },
  {
   "cell_type": "code",
   "execution_count": null,
   "metadata": {},
   "outputs": [],
   "source": [
    "fruits = [\"apple\", 'cherry', \"banana\", \"cherry\"]\n",
    "for x in fruits:\n",
    "    if x == \"cherry\":\n",
    "        print(x)\n",
    "    print(x)\n",
    "    break"
   ]
  },
  {
   "cell_type": "code",
   "execution_count": null,
   "metadata": {},
   "outputs": [],
   "source": [
    "fruits = [\"apple\", 'cherry', \"banana\", \"cherry\"]\n",
    "k = input(\"Enter the specific fruit name \") # cherry\n",
    "for x in fruits:\n",
    "    if x == k:\n",
    "        print(x)\n",
    "        #break # it will be link find / search function\n",
    "# => if we comment out the break statement, then it will act like \n",
    "# findall() from Regular Expression."
   ]
  },
  {
   "cell_type": "code",
   "execution_count": null,
   "metadata": {},
   "outputs": [],
   "source": [
    "i = 1\n",
    "while i < 6:\n",
    "    i += 1  # i = i+1\n",
    "    print(i)\n",
    "    if i == 3:\n",
    "        break\n",
    "print(i)\n",
    "print(\"Bye\")"
   ]
  },
  {
   "cell_type": "code",
   "execution_count": null,
   "metadata": {},
   "outputs": [],
   "source": [
    "# With the continue statement we can skip the current iteration,\n",
    "# and continue with the next one.\n",
    "i = 0\n",
    "while i < 10:\n",
    "    i += 1\n",
    "    if i == 2:\n",
    "        continue\n",
    "    print(i)\n",
    "print(i)"
   ]
  },
  {
   "cell_type": "code",
   "execution_count": null,
   "metadata": {},
   "outputs": [],
   "source": [
    "fruits = [\"apple\", \"banana\", \"cherry\"]\n",
    "k = input(\"Enter the fruit which you dont like \") # apple\n",
    "for x in fruits:\n",
    "    if x == k:\n",
    "        continue\n",
    "    print(x)"
   ]
  },
  {
   "cell_type": "code",
   "execution_count": null,
   "metadata": {},
   "outputs": [],
   "source": [
    "fruits = [\"apple\", \"banana\", \"cherry\", \"banana\", 'cherry', 'cherry']\n",
    "k = input(\"Enter your Fev. Fruit \") # apple\n",
    "for x in fruits:\n",
    "    if x == k:\n",
    "        print(x)\n",
    "        continue"
   ]
  },
  {
   "cell_type": "code",
   "execution_count": null,
   "metadata": {},
   "outputs": [],
   "source": [
    "# The range() Function\n",
    "# (0, 6, 2) = (starting point, ending point, difference)\n",
    "for x in range(10,23,4):\n",
    "    print(x)"
   ]
  },
  {
   "cell_type": "code",
   "execution_count": null,
   "metadata": {},
   "outputs": [],
   "source": [
    "for x in range(2, 6, 2):\n",
    "    print(x)"
   ]
  },
  {
   "cell_type": "code",
   "execution_count": null,
   "metadata": {},
   "outputs": [],
   "source": [
    "for x in range(43, 430, 43):  # string slicing\n",
    "    print(x)"
   ]
  },
  {
   "cell_type": "code",
   "execution_count": null,
   "metadata": {},
   "outputs": [],
   "source": [
    "for x in range(6):\n",
    "    print(x)\n",
    "else:\n",
    "    print(\"Finally finished!\")"
   ]
  },
  {
   "cell_type": "code",
   "execution_count": null,
   "metadata": {},
   "outputs": [],
   "source": [
    "# WAP to print even no from list values\n",
    "a = [1,2,3,4,5]\n",
    "b = [i for i in a if i%2 == 0]\n",
    "print(b)"
   ]
  },
  {
   "cell_type": "code",
   "execution_count": null,
   "metadata": {},
   "outputs": [],
   "source": [
    "a = [1,2,3,4,5]\n",
    "for i in a:\n",
    "    if i%2 == 0:\n",
    "        print(i)"
   ]
  },
  {
   "cell_type": "code",
   "execution_count": null,
   "metadata": {},
   "outputs": [],
   "source": [
    "for n in range(-2, -5, -1):\n",
    "    print(n, end = \", \")"
   ]
  },
  {
   "cell_type": "markdown",
   "metadata": {},
   "source": [
    "# Nested Loops"
   ]
  },
  {
   "cell_type": "code",
   "execution_count": null,
   "metadata": {},
   "outputs": [],
   "source": [
    "adj = ['red','big','testy']\n",
    "fruits = ['apple','banana','cherry','lemon']\n",
    "for i in adj:\n",
    "    for j in fruits:\n",
    "        print(i, j)\n",
    "# => nested loop means loop under loop.\n",
    "# => Suppose if we want to run particular block of code till\n",
    "# particular time / till any particular condition is valid, in\n",
    "# that case we can use nested loops."
   ]
  },
  {
   "cell_type": "code",
   "execution_count": null,
   "metadata": {
    "scrolled": true
   },
   "outputs": [],
   "source": [
    "i = ['*','*','*']\n",
    "j = ['*','*','*','*','*','*']\n",
    "for i1 in i:\n",
    "    for j1 in j:\n",
    "        print(i,j)\n",
    "        # 6*1 + 6*1 + 6*1 = 18"
   ]
  },
  {
   "cell_type": "code",
   "execution_count": null,
   "metadata": {},
   "outputs": [],
   "source": [
    "list_a = [1, 2020, 70]\n",
    "list_b = [2, 4, 7, 2000]\n",
    "list_c = [3, 70, 7]\n",
    "\n",
    "for a in list_a:\n",
    "    for b in list_b:\n",
    "        for c in list_c:\n",
    "            if a + b + c == 2077:\n",
    "                print(a, b, c)"
   ]
  },
  {
   "cell_type": "code",
   "execution_count": null,
   "metadata": {},
   "outputs": [],
   "source": [
    "!pip install itertools\n",
    "# above command is used to download the external class/module."
   ]
  },
  {
   "cell_type": "code",
   "execution_count": null,
   "metadata": {},
   "outputs": [],
   "source": [
    "from itertools import product"
   ]
  },
  {
   "cell_type": "code",
   "execution_count": null,
   "metadata": {},
   "outputs": [],
   "source": [
    "list_a = [1, 2020, 70]\n",
    "list_b = [2, 4, 7, 2000]\n",
    "list_c = [3, 70, 7]\n",
    "\n",
    "for a, b, c in product(list_a, list_b, list_c):\n",
    "    if a + b + c == 2097:\n",
    "        print(a, b, c)"
   ]
  },
  {
   "cell_type": "code",
   "execution_count": null,
   "metadata": {},
   "outputs": [],
   "source": [
    "# WAP to print table of 5\n",
    "# we are applying multiplication operation using list and normal variable \n",
    "\n",
    "list1 = [1,2,3,4,5,6,7,8,9,10]\n",
    "n = int(input(\"Enter the no: \")) # 10\n",
    "\n",
    "for i in list1:\n",
    "    c = n*i  \n",
    "    print(c)"
   ]
  },
  {
   "cell_type": "code",
   "execution_count": null,
   "metadata": {},
   "outputs": [],
   "source": [
    "#for i in range(10,101,10):\n",
    "#    print(i)\n",
    "    \n",
    "[i for i in range(10,101,10)]\n",
    "# pre-defined program"
   ]
  },
  {
   "cell_type": "code",
   "execution_count": null,
   "metadata": {},
   "outputs": [],
   "source": [
    "# user defined program\n",
    "n = int(input(\"Enter any no : \"))\n",
    "for i in range(1,11):\n",
    "    print(i*n)"
   ]
  },
  {
   "cell_type": "code",
   "execution_count": null,
   "metadata": {},
   "outputs": [],
   "source": [
    "# WAP to find sum of list items\n",
    "\n",
    "list1 = [1,2,3,4,5,6,7,8,9,10,11,12,13,14]\n",
    "sum = 0  # 1+3\n",
    "for i in list1:\n",
    "    sum = sum+i   # 1=1+2 = 3\n",
    "print(sum)"
   ]
  },
  {
   "cell_type": "code",
   "execution_count": null,
   "metadata": {},
   "outputs": [],
   "source": [
    "# Define the data to be evaluated\n",
    "data = [3, 5, 2, 8, 4]\n",
    "# Use a for loop to evaluate each element in the data\n",
    "for num in data:\n",
    "    # Use the ternary operator to determine if the number is even or odd\n",
    "    result = 'even' if num % 2 == 0 else 'odd'\n",
    "    # Optionally, print the result of the ternary operator for each element\n",
    "    #print(f'The number {num} is {result}.')\n",
    "    print(num, result)"
   ]
  },
  {
   "cell_type": "markdown",
   "metadata": {},
   "source": [
    "# Enumerate function"
   ]
  },
  {
   "cell_type": "raw",
   "metadata": {},
   "source": [
    "Python eases the programmers’ task by providing a built-in function enumerate()\n",
    "\n",
    "This enumerated object can then be used directly for loops or converted into a list of tuples using the list() function.\n",
    "\n",
    "Syntax: \n",
    "enumerate(iterable, start=0)\n",
    "\n",
    "Iterable: any object that supports iteration\n",
    "\n",
    "Start: the index value from which the counter is to be started, by default it is 0"
   ]
  },
  {
   "cell_type": "code",
   "execution_count": null,
   "metadata": {},
   "outputs": [],
   "source": [
    "fruits = ['apple', 'banana', 'mango'] \n",
    "for i, j in enumerate(fruits): \n",
    "    print(i, j)"
   ]
  },
  {
   "cell_type": "code",
   "execution_count": null,
   "metadata": {},
   "outputs": [],
   "source": [
    "# Python program to illustrate enumerate function\n",
    "l1 = [\"eat\", \"sleep\", \"repeat\"]\n",
    "s1 = \"geek\"\n",
    "\n",
    "# creating enumerate objects\n",
    "obj1 = enumerate(l1)\n",
    "obj2 = enumerate(s1)\n",
    "\n",
    "print(\"Return type:\", type(obj1))\n",
    "print(list(enumerate(l1, 5)))\n",
    "\n",
    "# changing start index to 2 from 0\n",
    "print(list(enumerate(s1, 2)))"
   ]
  },
  {
   "cell_type": "code",
   "execution_count": null,
   "metadata": {},
   "outputs": [],
   "source": [
    "# Python program to illustrate\n",
    "# enumerate function in loops\n",
    "l1 = [\"eat\", \"sleep\", \"repeat\"]\n",
    "\n",
    "# printing the tuples in object directly\n",
    "for ele in enumerate(l1):\n",
    "    print(ele)"
   ]
  },
  {
   "cell_type": "code",
   "execution_count": null,
   "metadata": {},
   "outputs": [],
   "source": [
    "# changing index and printing separately\n",
    "for count, ele in enumerate(l1, 100):\n",
    "    print(count, ele)"
   ]
  },
  {
   "cell_type": "code",
   "execution_count": null,
   "metadata": {},
   "outputs": [],
   "source": [
    "# getting desired output from tuple\n",
    "for count, ele in enumerate(l1):\n",
    "    print(count)\n",
    "    #print(ele)"
   ]
  },
  {
   "cell_type": "code",
   "execution_count": null,
   "metadata": {},
   "outputs": [],
   "source": []
  }
 ],
 "metadata": {
  "kernelspec": {
   "display_name": "Python 3",
   "language": "python",
   "name": "python3"
  },
  "language_info": {
   "codemirror_mode": {
    "name": "ipython",
    "version": 3
   },
   "file_extension": ".py",
   "mimetype": "text/x-python",
   "name": "python",
   "nbconvert_exporter": "python",
   "pygments_lexer": "ipython3",
   "version": "3.8.3"
  }
 },
 "nbformat": 4,
 "nbformat_minor": 4
}
